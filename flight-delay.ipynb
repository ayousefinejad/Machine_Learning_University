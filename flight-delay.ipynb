{
  "nbformat": 4,
  "nbformat_minor": 0,
  "metadata": {
    "colab": {
      "provenance": [],
      "toc_visible": true
    },
    "kernelspec": {
      "name": "python3",
      "display_name": "Python 3"
    },
    "language_info": {
      "name": "python"
    },
    "accelerator": "TPU"
  },
  "cells": [
    {
      "cell_type": "code",
      "source": [
        "from google.colab import drive\n",
        "drive.mount('/content/drive')"
      ],
      "metadata": {
        "colab": {
          "base_uri": "https://localhost:8080/"
        },
        "id": "8bz5m5voCa0c",
        "outputId": "a2e54c66-3a67-409d-88e3-8e52ab96cd37"
      },
      "execution_count": null,
      "outputs": [
        {
          "output_type": "stream",
          "name": "stdout",
          "text": [
            "Drive already mounted at /content/drive; to attempt to forcibly remount, call drive.mount(\"/content/drive\", force_remount=True).\n"
          ]
        }
      ]
    },
    {
      "cell_type": "code",
      "source": [
        "import pandas as pd\n",
        "import numpy as np\n",
        "import matplotlib.pyplot as plt\n",
        "import seaborn as sns\n",
        "\n",
        "\n",
        "from sklearn.compose import ColumnTransformer\n",
        "from sklearn.pipeline import Pipeline\n",
        "from sklearn.preprocessing import OneHotEncoder, StandardScaler\n",
        "from sklearn.metrics import classification_report, confusion_matrix, precision_recall_curve\n",
        "\n",
        "import numpy as np\n",
        "from numpy.linalg import pinv\n",
        "\n",
        "import pandas as pd\n",
        "from sklearn.model_selection import train_test_split\n",
        "from sklearn.preprocessing import StandardScaler, OneHotEncoder\n",
        "from keras import regularizers\n",
        "from keras.models import Sequential\n",
        "from keras.layers import Dense, Input\n",
        "from keras.callbacks import EarlyStopping\n",
        "from keras.models import Model\n",
        "\n",
        "from imblearn.under_sampling import RandomUnderSampler"
      ],
      "metadata": {
        "id": "BwIzdI7rplbD"
      },
      "execution_count": null,
      "outputs": []
    },
    {
      "cell_type": "code",
      "source": [
        "df_2019 = pd.read_csv('/content/drive/MyDrive/University_of_Tehran/Pro. Sajedi/archive/archive/Jan_2019_ontime.csv')\n",
        "df_2020 = pd.read_csv('/content/drive/MyDrive/University_of_Tehran/Pro. Sajedi/archive/archive/Jan_2020_ontime.csv')\n",
        "\n",
        "df_2019['year'] = 2019\n",
        "df_2020['year'] = 2020\n",
        "\n",
        "dataset = pd.concat([df_2019,df_2020])"
      ],
      "metadata": {
        "id": "pUPAGhkxnVYW"
      },
      "execution_count": null,
      "outputs": []
    },
    {
      "cell_type": "markdown",
      "source": [
        "\n",
        "\n",
        "```\n",
        "'DAY_OF_MONTH': Day of the month.\n",
        "'DAY_OF_WEEK': Day of the week.\n",
        "'OP_UNIQUE_CARRIER': Unique transport code.\n",
        "'OP_CARRIER_AIRLINE_ID': Unique aviation operator code.\n",
        "'OP_CARRIER': IATA code of the operator.\n",
        "'TAIL_NUM': Tail number.\n",
        "'OP_CARRIER_FL_NUM': Flight number.\n",
        "'ORIGIN_AIRPORT_ID': Origin airport ID.\n",
        "'ORIGIN_AIRPORT_SEQ_ID': Origin airport ID - SEQ.\n",
        "'ORIGIN': Airport of Origin.\n",
        "'DEST_AIRPORT_ID': ID of the destination airport.\n",
        "'DEST_AIRPORT_SEQ_ID': Destination airport ID - SEQ.\n",
        "'DEST': Destination airport.\n",
        "'DEP_TIME': Flight departure time.\n",
        "'DEP_DEL15': Departure delay indicator\n",
        "'DEP_TIME_BLK': block of time (hour) where the match has been postponed.\n",
        "'ARR_TIME': Flight arrival time.\n",
        "'ARR_DEL15': Arrival delay indicator.\n",
        "'CANCELLED': Flight cancellation indicator.\n",
        "'DIVERTED': Indicator if the flight has been diverted.\n",
        "'DISTANCE': Distance between airports.\n",
        "```\n",
        "\n"
      ],
      "metadata": {
        "id": "X6tfkNFAse75"
      }
    },
    {
      "cell_type": "markdown",
      "source": [
        "\n",
        "\n",
        "**Useful links**\n",
        "*   [Understanding the Data](https://www.kaggle.com/code/vasudevmaduri/eda-understanding-the-data)\n",
        "*   [About dataset](https://www.kaggle.com/datasets/divyansh22/flight-delay-prediction/)\n",
        "\n",
        "*   [Predicting the Delay of Flights](https://www.kaggle.com/code/brunovinicius154/predicting-the-delay-of-flights-auc-0-88)\n",
        "\n",
        "\n",
        "\n"
      ],
      "metadata": {
        "id": "30ISic8SukpM"
      }
    },
    {
      "cell_type": "markdown",
      "source": [
        "\n",
        "*Selected feature*\n",
        "```\n",
        "'DAY_OF_MONTH': Day of the month.\n",
        "'DAY_OF_WEEK': Day of the week.\n",
        "'OP_CARRIER_FL_NUM': Flight number.\n",
        "'ORIGIN': Airport of Origin.\n",
        "'DEST': Destination airport.\n",
        "'DEP_TIME': Flight departure time.\n",
        "'DEP_DEL15': Departure delay indicator\n",
        "'DEP_TIME_BLK': block of time (hour) where the match has been postponed.\n",
        "'ARR_TIME': Flight arrival time.\n",
        "'ARR_DEL15': Arrival delay indicator.\n",
        "'CANCELLED': Flight cancellation indicator.\n",
        "'DIVERTED': Indicator if the flight has been diverted.\n",
        "'DISTANCE': Distance between airports.\n",
        "```"
      ],
      "metadata": {
        "id": "9couBg0J5eEp"
      }
    },
    {
      "cell_type": "markdown",
      "source": [
        "# Understanding the data"
      ],
      "metadata": {
        "id": "22Uxpll-6R6v"
      }
    },
    {
      "cell_type": "code",
      "source": [
        "dataset.isnull().sum()"
      ],
      "metadata": {
        "id": "e3vJUIz06W38",
        "colab": {
          "base_uri": "https://localhost:8080/"
        },
        "outputId": "79b15bb7-15d6-4e28-a865-ae55f20df2c3"
      },
      "execution_count": null,
      "outputs": [
        {
          "output_type": "execute_result",
          "data": {
            "text/plain": [
              "DAY_OF_MONTH                   0\n",
              "DAY_OF_WEEK                    0\n",
              "OP_UNIQUE_CARRIER              0\n",
              "OP_CARRIER_AIRLINE_ID          0\n",
              "OP_CARRIER                     0\n",
              "TAIL_NUM                    3241\n",
              "OP_CARRIER_FL_NUM              0\n",
              "ORIGIN_AIRPORT_ID              0\n",
              "ORIGIN_AIRPORT_SEQ_ID          0\n",
              "ORIGIN                         0\n",
              "DEST_AIRPORT_ID                0\n",
              "DEST_AIRPORT_SEQ_ID            0\n",
              "DEST                           0\n",
              "DEP_TIME                   23016\n",
              "DEP_DEL15                  23054\n",
              "DEP_TIME_BLK                   0\n",
              "ARR_TIME                   24136\n",
              "ARR_DEL15                  26100\n",
              "CANCELLED                      0\n",
              "DIVERTED                       0\n",
              "DISTANCE                       0\n",
              "Unnamed: 21              1191331\n",
              "year                           0\n",
              "dtype: int64"
            ]
          },
          "metadata": {},
          "execution_count": 4
        }
      ]
    },
    {
      "cell_type": "markdown",
      "source": [
        "# Process on data"
      ],
      "metadata": {
        "id": "3cv6UkP56UOZ"
      }
    },
    {
      "cell_type": "code",
      "source": [
        "drop_cols = ['OP_UNIQUE_CARRIER','OP_CARRIER_AIRLINE_ID','OP_CARRIER','TAIL_NUM',\n",
        "             'ORIGIN_AIRPORT_ID','ORIGIN_AIRPORT_SEQ_ID','DEST_AIRPORT_ID',\n",
        "             'DEST_AIRPORT_SEQ_ID','Unnamed: 21']\n",
        "\n",
        "data = dataset.drop(columns=drop_cols, axis=1)\n",
        "\n",
        "data = data.set_index('OP_CARRIER_FL_NUM')"
      ],
      "metadata": {
        "id": "P00cw_PLXQ91"
      },
      "execution_count": null,
      "outputs": []
    },
    {
      "cell_type": "markdown",
      "source": [
        "\n",
        "Number of nan variable each columns\n",
        "```\n",
        "DEP_TIME                   23016\n",
        "DEP_DEL15                  23054\n",
        "ARR_TIME                   24136\n",
        "ARR_DEL15                  26100\n",
        "```\n",
        "\n"
      ],
      "metadata": {
        "id": "xXQ8kWW26nuL"
      }
    },
    {
      "cell_type": "markdown",
      "source": [
        "### Add Some Features"
      ],
      "metadata": {
        "id": "9q2n8ypj54wP"
      }
    },
    {
      "cell_type": "markdown",
      "source": [
        "#### add distance range to dataset"
      ],
      "metadata": {
        "id": "9QzKf13J57gz"
      }
    },
    {
      "cell_type": "code",
      "source": [
        "data['DISTANCE_cat'] = pd.qcut(data['DISTANCE'], q=4)"
      ],
      "metadata": {
        "id": "XBWFB55d54Sz"
      },
      "execution_count": null,
      "outputs": []
    },
    {
      "cell_type": "markdown",
      "source": [
        "#### missing values"
      ],
      "metadata": {
        "id": "qodZwNaCuU47"
      }
    },
    {
      "cell_type": "code",
      "source": [
        "data.dropna(inplace=True)"
      ],
      "metadata": {
        "id": "xZS5t8dOuXGW"
      },
      "execution_count": null,
      "outputs": []
    },
    {
      "cell_type": "markdown",
      "source": [
        "#### add arrival dely block column"
      ],
      "metadata": {
        "id": "BZ4_IT3A5_QY"
      }
    },
    {
      "cell_type": "code",
      "source": [
        "def arr_time(x):\n",
        "\n",
        "  if x >= 600 and x <= 659:\n",
        "    return '0600-0659'\n",
        "  elif x>=1400 and x<=1459:\n",
        "    return '1400-1459'\n",
        "  elif x>=1200 and x<=1259:\n",
        "    return '1200-1259'\n",
        "  elif x>=1500 and x<=1559:\n",
        "    return '1500-1559'\n",
        "  elif x>=1900 and x<=1959:\n",
        "    return '1900-1959'\n",
        "  elif x>=900 and x<=959:\n",
        "    return '0900-0959'\n",
        "  elif x>=1000 and x<=1059:\n",
        "    return  '1000-1059'\n",
        "  elif x>=2000 and x<=2059:\n",
        "    return '2000-2059'\n",
        "  elif x>=1300 and x<=1359:\n",
        "    return '1300-1359'\n",
        "  elif x>=1100 and x<=1159:\n",
        "    return '1100-1159'\n",
        "  elif x>=800 and x<=859:\n",
        "    return '0800-0859'\n",
        "  elif x>=2200 and x<=2259:\n",
        "    return '2200-2259'\n",
        "  elif x>=1600 and x<=1659:\n",
        "    return '1600-1659'\n",
        "  elif x>=1700 and x<=1759:\n",
        "    return '1700-1759'\n",
        "  elif x>=2100 and x<=2159:\n",
        "    return '2100-2159'\n",
        "  elif x>=700 and x<=759:\n",
        "    return '0700-0759'\n",
        "  elif x>=1800 and x<=1859:\n",
        "    return '1800-1859'\n",
        "  elif x>=1 and x<=559:\n",
        "    return '0001-0559'\n",
        "  elif x>=2300 and x<=2400:\n",
        "    return '2300-2400'\n",
        "\n",
        "\n",
        "# We can create ARR_TIME_BLOCK.\n",
        "data['ARR_TIME'] = data['ARR_TIME'].astype('int')\n",
        "data['ARR_TIME_BLK'] = data['ARR_TIME'].apply(lambda x :arr_time(x))\n",
        "data.reset_index(inplace=True)\n",
        "data.head()"
      ],
      "metadata": {
        "id": "2ffWEu7d8ny_",
        "colab": {
          "base_uri": "https://localhost:8080/",
          "height": 226
        },
        "outputId": "c3408773-77a2-4816-8499-3450165df1f5"
      },
      "execution_count": null,
      "outputs": [
        {
          "output_type": "execute_result",
          "data": {
            "text/plain": [
              "   OP_CARRIER_FL_NUM  DAY_OF_MONTH  DAY_OF_WEEK ORIGIN DEST  DEP_TIME  \\\n",
              "0               3280             1            2    GNV  ATL     601.0   \n",
              "1               3281             1            2    MSP  CVG    1359.0   \n",
              "2               3282             1            2    DTW  CVG    1215.0   \n",
              "3               3283             1            2    TLH  ATL    1521.0   \n",
              "4               3284             1            2    ATL  FSM    1847.0   \n",
              "\n",
              "   DEP_DEL15 DEP_TIME_BLK  ARR_TIME  ARR_DEL15  CANCELLED  DIVERTED  DISTANCE  \\\n",
              "0        0.0    0600-0659       722        0.0        0.0       0.0     300.0   \n",
              "1        0.0    1400-1459      1633        0.0        0.0       0.0     596.0   \n",
              "2        0.0    1200-1259      1329        0.0        0.0       0.0     229.0   \n",
              "3        0.0    1500-1559      1625        0.0        0.0       0.0     223.0   \n",
              "4        0.0    1900-1959      1940        0.0        0.0       0.0     579.0   \n",
              "\n",
              "   year     DISTANCE_cat ARR_TIME_BLK  \n",
              "0  2019  (30.999, 366.0]    0700-0759  \n",
              "1  2019   (366.0, 640.0]    1600-1659  \n",
              "2  2019  (30.999, 366.0]    1300-1359  \n",
              "3  2019  (30.999, 366.0]    1600-1659  \n",
              "4  2019   (366.0, 640.0]    1900-1959  "
            ],
            "text/html": [
              "\n",
              "  <div id=\"df-1a175ba0-d0fb-46c9-8bee-47c0cb50c866\" class=\"colab-df-container\">\n",
              "    <div>\n",
              "<style scoped>\n",
              "    .dataframe tbody tr th:only-of-type {\n",
              "        vertical-align: middle;\n",
              "    }\n",
              "\n",
              "    .dataframe tbody tr th {\n",
              "        vertical-align: top;\n",
              "    }\n",
              "\n",
              "    .dataframe thead th {\n",
              "        text-align: right;\n",
              "    }\n",
              "</style>\n",
              "<table border=\"1\" class=\"dataframe\">\n",
              "  <thead>\n",
              "    <tr style=\"text-align: right;\">\n",
              "      <th></th>\n",
              "      <th>OP_CARRIER_FL_NUM</th>\n",
              "      <th>DAY_OF_MONTH</th>\n",
              "      <th>DAY_OF_WEEK</th>\n",
              "      <th>ORIGIN</th>\n",
              "      <th>DEST</th>\n",
              "      <th>DEP_TIME</th>\n",
              "      <th>DEP_DEL15</th>\n",
              "      <th>DEP_TIME_BLK</th>\n",
              "      <th>ARR_TIME</th>\n",
              "      <th>ARR_DEL15</th>\n",
              "      <th>CANCELLED</th>\n",
              "      <th>DIVERTED</th>\n",
              "      <th>DISTANCE</th>\n",
              "      <th>year</th>\n",
              "      <th>DISTANCE_cat</th>\n",
              "      <th>ARR_TIME_BLK</th>\n",
              "    </tr>\n",
              "  </thead>\n",
              "  <tbody>\n",
              "    <tr>\n",
              "      <th>0</th>\n",
              "      <td>3280</td>\n",
              "      <td>1</td>\n",
              "      <td>2</td>\n",
              "      <td>GNV</td>\n",
              "      <td>ATL</td>\n",
              "      <td>601.0</td>\n",
              "      <td>0.0</td>\n",
              "      <td>0600-0659</td>\n",
              "      <td>722</td>\n",
              "      <td>0.0</td>\n",
              "      <td>0.0</td>\n",
              "      <td>0.0</td>\n",
              "      <td>300.0</td>\n",
              "      <td>2019</td>\n",
              "      <td>(30.999, 366.0]</td>\n",
              "      <td>0700-0759</td>\n",
              "    </tr>\n",
              "    <tr>\n",
              "      <th>1</th>\n",
              "      <td>3281</td>\n",
              "      <td>1</td>\n",
              "      <td>2</td>\n",
              "      <td>MSP</td>\n",
              "      <td>CVG</td>\n",
              "      <td>1359.0</td>\n",
              "      <td>0.0</td>\n",
              "      <td>1400-1459</td>\n",
              "      <td>1633</td>\n",
              "      <td>0.0</td>\n",
              "      <td>0.0</td>\n",
              "      <td>0.0</td>\n",
              "      <td>596.0</td>\n",
              "      <td>2019</td>\n",
              "      <td>(366.0, 640.0]</td>\n",
              "      <td>1600-1659</td>\n",
              "    </tr>\n",
              "    <tr>\n",
              "      <th>2</th>\n",
              "      <td>3282</td>\n",
              "      <td>1</td>\n",
              "      <td>2</td>\n",
              "      <td>DTW</td>\n",
              "      <td>CVG</td>\n",
              "      <td>1215.0</td>\n",
              "      <td>0.0</td>\n",
              "      <td>1200-1259</td>\n",
              "      <td>1329</td>\n",
              "      <td>0.0</td>\n",
              "      <td>0.0</td>\n",
              "      <td>0.0</td>\n",
              "      <td>229.0</td>\n",
              "      <td>2019</td>\n",
              "      <td>(30.999, 366.0]</td>\n",
              "      <td>1300-1359</td>\n",
              "    </tr>\n",
              "    <tr>\n",
              "      <th>3</th>\n",
              "      <td>3283</td>\n",
              "      <td>1</td>\n",
              "      <td>2</td>\n",
              "      <td>TLH</td>\n",
              "      <td>ATL</td>\n",
              "      <td>1521.0</td>\n",
              "      <td>0.0</td>\n",
              "      <td>1500-1559</td>\n",
              "      <td>1625</td>\n",
              "      <td>0.0</td>\n",
              "      <td>0.0</td>\n",
              "      <td>0.0</td>\n",
              "      <td>223.0</td>\n",
              "      <td>2019</td>\n",
              "      <td>(30.999, 366.0]</td>\n",
              "      <td>1600-1659</td>\n",
              "    </tr>\n",
              "    <tr>\n",
              "      <th>4</th>\n",
              "      <td>3284</td>\n",
              "      <td>1</td>\n",
              "      <td>2</td>\n",
              "      <td>ATL</td>\n",
              "      <td>FSM</td>\n",
              "      <td>1847.0</td>\n",
              "      <td>0.0</td>\n",
              "      <td>1900-1959</td>\n",
              "      <td>1940</td>\n",
              "      <td>0.0</td>\n",
              "      <td>0.0</td>\n",
              "      <td>0.0</td>\n",
              "      <td>579.0</td>\n",
              "      <td>2019</td>\n",
              "      <td>(366.0, 640.0]</td>\n",
              "      <td>1900-1959</td>\n",
              "    </tr>\n",
              "  </tbody>\n",
              "</table>\n",
              "</div>\n",
              "    <div class=\"colab-df-buttons\">\n",
              "\n",
              "  <div class=\"colab-df-container\">\n",
              "    <button class=\"colab-df-convert\" onclick=\"convertToInteractive('df-1a175ba0-d0fb-46c9-8bee-47c0cb50c866')\"\n",
              "            title=\"Convert this dataframe to an interactive table.\"\n",
              "            style=\"display:none;\">\n",
              "\n",
              "  <svg xmlns=\"http://www.w3.org/2000/svg\" height=\"24px\" viewBox=\"0 -960 960 960\">\n",
              "    <path d=\"M120-120v-720h720v720H120Zm60-500h600v-160H180v160Zm220 220h160v-160H400v160Zm0 220h160v-160H400v160ZM180-400h160v-160H180v160Zm440 0h160v-160H620v160ZM180-180h160v-160H180v160Zm440 0h160v-160H620v160Z\"/>\n",
              "  </svg>\n",
              "    </button>\n",
              "\n",
              "  <style>\n",
              "    .colab-df-container {\n",
              "      display:flex;\n",
              "      gap: 12px;\n",
              "    }\n",
              "\n",
              "    .colab-df-convert {\n",
              "      background-color: #E8F0FE;\n",
              "      border: none;\n",
              "      border-radius: 50%;\n",
              "      cursor: pointer;\n",
              "      display: none;\n",
              "      fill: #1967D2;\n",
              "      height: 32px;\n",
              "      padding: 0 0 0 0;\n",
              "      width: 32px;\n",
              "    }\n",
              "\n",
              "    .colab-df-convert:hover {\n",
              "      background-color: #E2EBFA;\n",
              "      box-shadow: 0px 1px 2px rgba(60, 64, 67, 0.3), 0px 1px 3px 1px rgba(60, 64, 67, 0.15);\n",
              "      fill: #174EA6;\n",
              "    }\n",
              "\n",
              "    .colab-df-buttons div {\n",
              "      margin-bottom: 4px;\n",
              "    }\n",
              "\n",
              "    [theme=dark] .colab-df-convert {\n",
              "      background-color: #3B4455;\n",
              "      fill: #D2E3FC;\n",
              "    }\n",
              "\n",
              "    [theme=dark] .colab-df-convert:hover {\n",
              "      background-color: #434B5C;\n",
              "      box-shadow: 0px 1px 3px 1px rgba(0, 0, 0, 0.15);\n",
              "      filter: drop-shadow(0px 1px 2px rgba(0, 0, 0, 0.3));\n",
              "      fill: #FFFFFF;\n",
              "    }\n",
              "  </style>\n",
              "\n",
              "    <script>\n",
              "      const buttonEl =\n",
              "        document.querySelector('#df-1a175ba0-d0fb-46c9-8bee-47c0cb50c866 button.colab-df-convert');\n",
              "      buttonEl.style.display =\n",
              "        google.colab.kernel.accessAllowed ? 'block' : 'none';\n",
              "\n",
              "      async function convertToInteractive(key) {\n",
              "        const element = document.querySelector('#df-1a175ba0-d0fb-46c9-8bee-47c0cb50c866');\n",
              "        const dataTable =\n",
              "          await google.colab.kernel.invokeFunction('convertToInteractive',\n",
              "                                                    [key], {});\n",
              "        if (!dataTable) return;\n",
              "\n",
              "        const docLinkHtml = 'Like what you see? Visit the ' +\n",
              "          '<a target=\"_blank\" href=https://colab.research.google.com/notebooks/data_table.ipynb>data table notebook</a>'\n",
              "          + ' to learn more about interactive tables.';\n",
              "        element.innerHTML = '';\n",
              "        dataTable['output_type'] = 'display_data';\n",
              "        await google.colab.output.renderOutput(dataTable, element);\n",
              "        const docLink = document.createElement('div');\n",
              "        docLink.innerHTML = docLinkHtml;\n",
              "        element.appendChild(docLink);\n",
              "      }\n",
              "    </script>\n",
              "  </div>\n",
              "\n",
              "\n",
              "<div id=\"df-16133ed4-c11a-4bc7-85d9-7993ae0a3691\">\n",
              "  <button class=\"colab-df-quickchart\" onclick=\"quickchart('df-16133ed4-c11a-4bc7-85d9-7993ae0a3691')\"\n",
              "            title=\"Suggest charts\"\n",
              "            style=\"display:none;\">\n",
              "\n",
              "<svg xmlns=\"http://www.w3.org/2000/svg\" height=\"24px\"viewBox=\"0 0 24 24\"\n",
              "     width=\"24px\">\n",
              "    <g>\n",
              "        <path d=\"M19 3H5c-1.1 0-2 .9-2 2v14c0 1.1.9 2 2 2h14c1.1 0 2-.9 2-2V5c0-1.1-.9-2-2-2zM9 17H7v-7h2v7zm4 0h-2V7h2v10zm4 0h-2v-4h2v4z\"/>\n",
              "    </g>\n",
              "</svg>\n",
              "  </button>\n",
              "\n",
              "<style>\n",
              "  .colab-df-quickchart {\n",
              "      --bg-color: #E8F0FE;\n",
              "      --fill-color: #1967D2;\n",
              "      --hover-bg-color: #E2EBFA;\n",
              "      --hover-fill-color: #174EA6;\n",
              "      --disabled-fill-color: #AAA;\n",
              "      --disabled-bg-color: #DDD;\n",
              "  }\n",
              "\n",
              "  [theme=dark] .colab-df-quickchart {\n",
              "      --bg-color: #3B4455;\n",
              "      --fill-color: #D2E3FC;\n",
              "      --hover-bg-color: #434B5C;\n",
              "      --hover-fill-color: #FFFFFF;\n",
              "      --disabled-bg-color: #3B4455;\n",
              "      --disabled-fill-color: #666;\n",
              "  }\n",
              "\n",
              "  .colab-df-quickchart {\n",
              "    background-color: var(--bg-color);\n",
              "    border: none;\n",
              "    border-radius: 50%;\n",
              "    cursor: pointer;\n",
              "    display: none;\n",
              "    fill: var(--fill-color);\n",
              "    height: 32px;\n",
              "    padding: 0;\n",
              "    width: 32px;\n",
              "  }\n",
              "\n",
              "  .colab-df-quickchart:hover {\n",
              "    background-color: var(--hover-bg-color);\n",
              "    box-shadow: 0 1px 2px rgba(60, 64, 67, 0.3), 0 1px 3px 1px rgba(60, 64, 67, 0.15);\n",
              "    fill: var(--button-hover-fill-color);\n",
              "  }\n",
              "\n",
              "  .colab-df-quickchart-complete:disabled,\n",
              "  .colab-df-quickchart-complete:disabled:hover {\n",
              "    background-color: var(--disabled-bg-color);\n",
              "    fill: var(--disabled-fill-color);\n",
              "    box-shadow: none;\n",
              "  }\n",
              "\n",
              "  .colab-df-spinner {\n",
              "    border: 2px solid var(--fill-color);\n",
              "    border-color: transparent;\n",
              "    border-bottom-color: var(--fill-color);\n",
              "    animation:\n",
              "      spin 1s steps(1) infinite;\n",
              "  }\n",
              "\n",
              "  @keyframes spin {\n",
              "    0% {\n",
              "      border-color: transparent;\n",
              "      border-bottom-color: var(--fill-color);\n",
              "      border-left-color: var(--fill-color);\n",
              "    }\n",
              "    20% {\n",
              "      border-color: transparent;\n",
              "      border-left-color: var(--fill-color);\n",
              "      border-top-color: var(--fill-color);\n",
              "    }\n",
              "    30% {\n",
              "      border-color: transparent;\n",
              "      border-left-color: var(--fill-color);\n",
              "      border-top-color: var(--fill-color);\n",
              "      border-right-color: var(--fill-color);\n",
              "    }\n",
              "    40% {\n",
              "      border-color: transparent;\n",
              "      border-right-color: var(--fill-color);\n",
              "      border-top-color: var(--fill-color);\n",
              "    }\n",
              "    60% {\n",
              "      border-color: transparent;\n",
              "      border-right-color: var(--fill-color);\n",
              "    }\n",
              "    80% {\n",
              "      border-color: transparent;\n",
              "      border-right-color: var(--fill-color);\n",
              "      border-bottom-color: var(--fill-color);\n",
              "    }\n",
              "    90% {\n",
              "      border-color: transparent;\n",
              "      border-bottom-color: var(--fill-color);\n",
              "    }\n",
              "  }\n",
              "</style>\n",
              "\n",
              "  <script>\n",
              "    async function quickchart(key) {\n",
              "      const quickchartButtonEl =\n",
              "        document.querySelector('#' + key + ' button');\n",
              "      quickchartButtonEl.disabled = true;  // To prevent multiple clicks.\n",
              "      quickchartButtonEl.classList.add('colab-df-spinner');\n",
              "      try {\n",
              "        const charts = await google.colab.kernel.invokeFunction(\n",
              "            'suggestCharts', [key], {});\n",
              "      } catch (error) {\n",
              "        console.error('Error during call to suggestCharts:', error);\n",
              "      }\n",
              "      quickchartButtonEl.classList.remove('colab-df-spinner');\n",
              "      quickchartButtonEl.classList.add('colab-df-quickchart-complete');\n",
              "    }\n",
              "    (() => {\n",
              "      let quickchartButtonEl =\n",
              "        document.querySelector('#df-16133ed4-c11a-4bc7-85d9-7993ae0a3691 button');\n",
              "      quickchartButtonEl.style.display =\n",
              "        google.colab.kernel.accessAllowed ? 'block' : 'none';\n",
              "    })();\n",
              "  </script>\n",
              "</div>\n",
              "    </div>\n",
              "  </div>\n"
            ]
          },
          "metadata": {},
          "execution_count": 8
        }
      ]
    },
    {
      "cell_type": "markdown",
      "source": [
        "#### add count delay time in block deprature"
      ],
      "metadata": {
        "id": "Wcvcsn8G6MQ9"
      }
    },
    {
      "cell_type": "code",
      "source": [
        "# Number of Dep in each Block\n",
        "data1 = data.copy()\n",
        "count_dep_del15 = data1.groupby('DEP_TIME_BLK').DEP_DEL15.sum()\n",
        "df_count_dep_del15 = pd.DataFrame(count_dep_del15.reset_index())\n",
        "data1 = pd.merge(data1, df_count_dep_del15, on='DEP_TIME_BLK', how='inner')\n",
        "data1.rename({'DEP_DEL15_y':'count_dep_time_blk','DEP_DEL15_x':'DEP_DEL15' }, inplace=True, axis=1)\n"
      ],
      "metadata": {
        "id": "tre7yN50O_ym"
      },
      "execution_count": null,
      "outputs": []
    },
    {
      "cell_type": "markdown",
      "source": [
        "#### add count delay time in block arrivial"
      ],
      "metadata": {
        "id": "lcCbZ3qW6iBJ"
      }
    },
    {
      "cell_type": "code",
      "source": [
        "\n",
        "# Number of ARR in each Block\n",
        "data2 = data1.copy()\n",
        "count_arr_del15 = data2.groupby('ARR_TIME_BLK').ARR_DEL15.count()\n",
        "df_count_arr_del15 = pd.DataFrame(count_arr_del15.reset_index())\n",
        "data2 = pd.merge(data2, df_count_arr_del15, on='ARR_TIME_BLK', how='inner')\n",
        "data2.rename({'ARR_DEL15_y':'count_arr_time_blk','ARR_DEL15_x':'ARR_DEL15' }, inplace=True, axis=1)\n"
      ],
      "metadata": {
        "id": "WJQOEAhsTvm9"
      },
      "execution_count": null,
      "outputs": []
    },
    {
      "cell_type": "markdown",
      "source": [
        "## Data Prepration"
      ],
      "metadata": {
        "id": "IaxKwNDCVjwI"
      }
    },
    {
      "cell_type": "markdown",
      "source": [
        "### Split data to train and test (time series time)"
      ],
      "metadata": {
        "id": "MOiGzRZ09jrm"
      }
    },
    {
      "cell_type": "code",
      "source": [
        "# Sort data by their time\n",
        "sort_data = data2.copy()\n",
        "sort_data['DEP_TIME'] = sort_data['DEP_TIME'].astype(int)\n",
        "\n",
        "# Function to convert HHMM format into HH:MM format\n",
        "def convert_time(time_val):\n",
        "    time_str = f\"{time_val:04d}\"\n",
        "    return f\"{time_str[:-2]}:{time_str[-2:]}\"\n",
        "\n",
        "sort_data['DEP_TIME_hours'] = sort_data['DEP_TIME'].apply(convert_time)\n",
        "\n",
        "\n",
        "sort_data['DEPARTURE_DATETIME'] = pd.to_datetime(sort_data['year'].astype(str) + '-' + '01' + '-' + sort_data['DAY_OF_MONTH'].astype(str) + ' ' + sort_data['DEP_TIME_hours'], errors='coerce')\n",
        "sort_data.dropna(inplace=True)   # We have 76 raw nan variable\n",
        "\n",
        "data_sorted = sort_data.sort_values(by='DEPARTURE_DATETIME')\n",
        "\n",
        "split_index = int(len(data_sorted) * 0.8)\n",
        "\n",
        "train_data_splited = data_sorted.iloc[:split_index]\n",
        "test_data_splited = data_sorted.iloc[split_index:]"
      ],
      "metadata": {
        "id": "WI6NgGiJ9kQm"
      },
      "execution_count": null,
      "outputs": []
    },
    {
      "cell_type": "code",
      "source": [
        "X_features = ['DAY_OF_MONTH', 'DAY_OF_WEEK','DEP_TIME_BLK', 'DEP_TIME', 'ARR_TIME',\n",
        "              'CANCELLED', 'DIVERTED', 'DISTANCE','year','DISTANCE_cat',\n",
        "              'ARR_TIME_BLK', 'count_dep_time_blk', 'count_arr_time_blk']\n",
        "\n",
        "y_features = ['DEP_DEL15', 'ARR_DEL15']\n",
        "\n",
        "X_train = train_data_splited.loc[:, X_features]\n",
        "y_train = ((train_data_splited[y_features[0]] == 1.0) | (train_data_splited[y_features[1]] == 1.0)).astype(float)\n",
        "\n",
        "X_test = test_data_splited.loc[:, X_features]\n",
        "y_test = ((test_data_splited[y_features[0]] == 1.0) | (test_data_splited[y_features[1]] == 1.0)).astype(float)\n",
        "\n"
      ],
      "metadata": {
        "id": "bpmspUX9WP9v"
      },
      "execution_count": null,
      "outputs": []
    },
    {
      "cell_type": "markdown",
      "source": [
        "### data preprocessing"
      ],
      "metadata": {
        "id": "Azqo88A91xbY"
      }
    },
    {
      "cell_type": "code",
      "source": [
        "categorical_features = ['DAY_OF_MONTH', 'DAY_OF_WEEK','DEP_TIME_BLK','CANCELLED', 'DIVERTED', 'year','DISTANCE_cat','ARR_TIME_BLK']\n",
        "numerical_features = ['DEP_TIME', 'ARR_TIME', 'DISTANCE', 'count_dep_time_blk', 'count_arr_time_blk']\n",
        "\n",
        "categorical_transformer = OneHotEncoder(sparse=False)\n",
        "numerical_transformer = StandardScaler()\n",
        "\n",
        "preprocessor = ColumnTransformer(\n",
        "    transformers=[\n",
        "        ('num', numerical_transformer, numerical_features),\n",
        "        ('cat', categorical_transformer, categorical_features)\n",
        "    ])\n",
        "\n",
        "pipeline = Pipeline(steps=[('preprocessor', preprocessor)])\n",
        "\n",
        "X_train_transformed = pipeline.fit_transform(X_train)\n",
        "X_test_transformed = pipeline.transform(X_test)"
      ],
      "metadata": {
        "colab": {
          "base_uri": "https://localhost:8080/"
        },
        "id": "jm8D-98a6v8T",
        "outputId": "18be795e-4d53-44b4-8f45-760304063a17"
      },
      "execution_count": null,
      "outputs": [
        {
          "output_type": "stream",
          "name": "stderr",
          "text": [
            "/usr/local/lib/python3.10/dist-packages/sklearn/preprocessing/_encoders.py:868: FutureWarning: `sparse` was renamed to `sparse_output` in version 1.2 and will be removed in 1.4. `sparse_output` is ignored unless you leave `sparse` to its default value.\n",
            "  warnings.warn(\n"
          ]
        }
      ]
    },
    {
      "cell_type": "markdown",
      "source": [
        "# Training Models"
      ],
      "metadata": {
        "id": "TCs2UHiAVe8U"
      }
    },
    {
      "cell_type": "markdown",
      "source": [
        "## Multi-Layer Perceptron"
      ],
      "metadata": {
        "id": "8R-enWLagOK6"
      }
    },
    {
      "cell_type": "code",
      "source": [
        "input_dim = X_train_transformed.shape[1]\n",
        "early_stopping = EarlyStopping(monitor='val_loss', patience=5)\n",
        "learning_rate = 1e-2\n",
        "\n",
        "model_MLP = Sequential()\n",
        "model_MLP.add(Dense(150, input_dim=input_dim, activation='relu', activity_regularizer=regularizers.l1(learning_rate)))\n",
        "model_MLP.add(Dense(100, activation='relu'))\n",
        "model_MLP.add(Dense(50, activation='relu'))\n",
        "model_MLP.add(Dense(10, activation='relu'))\n",
        "model_MLP.add(Dense(1, activation='sigmoid'))\n",
        "\n",
        "\n",
        "model_MLP.compile(optimizer='adam', loss='binary_crossentropy', metrics=['accuracy'])"
      ],
      "metadata": {
        "id": "s6r2pwSQgNkD"
      },
      "execution_count": null,
      "outputs": []
    },
    {
      "cell_type": "code",
      "source": [
        "model_MLP.fit(X_train_transformed, y_train, epochs=50, batch_size=128, validation_split=0.1, callbacks=[early_stopping])\n",
        "# model_MLP.save('/content/drive/MyDrive/University_of_Tehran/Pro. Sajedi/MLP_model.h5')"
      ],
      "metadata": {
        "colab": {
          "base_uri": "https://localhost:8080/"
        },
        "id": "mOWDuV90zA2N",
        "outputId": "b4892f0e-3b80-4f36-9976-bfd6127d7287"
      },
      "execution_count": null,
      "outputs": [
        {
          "output_type": "stream",
          "name": "stdout",
          "text": [
            "Epoch 1/50\n",
            "6554/6554 [==============================] - 44s 6ms/step - loss: 0.3446 - accuracy: 0.8745 - val_loss: 0.3177 - val_accuracy: 0.8906\n",
            "Epoch 2/50\n",
            "6554/6554 [==============================] - 39s 6ms/step - loss: 0.3152 - accuracy: 0.8881 - val_loss: 0.3151 - val_accuracy: 0.8919\n",
            "Epoch 3/50\n",
            "6554/6554 [==============================] - 39s 6ms/step - loss: 0.3124 - accuracy: 0.8893 - val_loss: 0.3098 - val_accuracy: 0.8941\n",
            "Epoch 4/50\n",
            "6554/6554 [==============================] - 50s 8ms/step - loss: 0.3110 - accuracy: 0.8894 - val_loss: 0.3101 - val_accuracy: 0.8929\n",
            "Epoch 5/50\n",
            "6554/6554 [==============================] - 38s 6ms/step - loss: 0.3096 - accuracy: 0.8899 - val_loss: 0.3092 - val_accuracy: 0.8940\n",
            "Epoch 6/50\n",
            "6554/6554 [==============================] - 37s 6ms/step - loss: 0.3083 - accuracy: 0.8903 - val_loss: 0.3135 - val_accuracy: 0.8935\n",
            "Epoch 7/50\n",
            "6554/6554 [==============================] - 44s 7ms/step - loss: 0.3073 - accuracy: 0.8907 - val_loss: 0.3115 - val_accuracy: 0.8937\n",
            "Epoch 8/50\n",
            "6554/6554 [==============================] - 37s 6ms/step - loss: 0.3066 - accuracy: 0.8909 - val_loss: 0.3082 - val_accuracy: 0.8952\n",
            "Epoch 9/50\n",
            "6554/6554 [==============================] - 36s 5ms/step - loss: 0.3061 - accuracy: 0.8911 - val_loss: 0.3133 - val_accuracy: 0.8941\n",
            "Epoch 10/50\n",
            "6554/6554 [==============================] - 38s 6ms/step - loss: 0.3058 - accuracy: 0.8912 - val_loss: 0.3170 - val_accuracy: 0.8919\n",
            "Epoch 11/50\n",
            "6554/6554 [==============================] - 40s 6ms/step - loss: 0.3051 - accuracy: 0.8912 - val_loss: 0.3069 - val_accuracy: 0.8955\n",
            "Epoch 12/50\n",
            "6554/6554 [==============================] - 37s 6ms/step - loss: 0.3046 - accuracy: 0.8915 - val_loss: 0.3122 - val_accuracy: 0.8935\n",
            "Epoch 13/50\n",
            "6554/6554 [==============================] - 40s 6ms/step - loss: 0.3043 - accuracy: 0.8916 - val_loss: 0.3084 - val_accuracy: 0.8949\n",
            "Epoch 14/50\n",
            "6554/6554 [==============================] - 37s 6ms/step - loss: 0.3039 - accuracy: 0.8917 - val_loss: 0.3087 - val_accuracy: 0.8946\n",
            "Epoch 15/50\n",
            "6554/6554 [==============================] - 36s 6ms/step - loss: 0.3036 - accuracy: 0.8917 - val_loss: 0.3097 - val_accuracy: 0.8946\n",
            "Epoch 16/50\n",
            "6554/6554 [==============================] - 39s 6ms/step - loss: 0.3034 - accuracy: 0.8918 - val_loss: 0.3124 - val_accuracy: 0.8944\n"
          ]
        },
        {
          "output_type": "execute_result",
          "data": {
            "text/plain": [
              "<keras.src.callbacks.History at 0x7cc8000fb490>"
            ]
          },
          "metadata": {},
          "execution_count": 14
        }
      ]
    },
    {
      "cell_type": "code",
      "source": [
        "model_MLP.save('/content/drive/MyDrive/University_of_Tehran/Pro. Sajedi/MLP_model.h5')"
      ],
      "metadata": {
        "colab": {
          "base_uri": "https://localhost:8080/"
        },
        "id": "x1crrIuvKKX7",
        "outputId": "490aec09-a418-490b-b540-abb40aba875a"
      },
      "execution_count": null,
      "outputs": [
        {
          "output_type": "stream",
          "name": "stderr",
          "text": [
            "/usr/local/lib/python3.10/dist-packages/keras/src/engine/training.py:3103: UserWarning: You are saving your model as an HDF5 file via `model.save()`. This file format is considered legacy. We recommend using instead the native Keras format, e.g. `model.save('my_model.keras')`.\n",
            "  saving_api.save_model(\n"
          ]
        }
      ]
    },
    {
      "cell_type": "markdown",
      "source": [
        "### Evaluate MLP"
      ],
      "metadata": {
        "id": "Uzsd45MDc7Qm"
      }
    },
    {
      "cell_type": "code",
      "source": [
        "loss_MLP, accuracy_MLP = model_MLP.evaluate(X_test_transformed, y_test)\n",
        "print(f'Loss: {loss_MLP}, Accuracy: {accuracy_MLP}')\n",
        "\n",
        "predictions_MLP = model_MLP.predict(X_test_transformed)\n",
        "binary_predictions = (predictions_MLP > 0.5).astype(int)\n",
        "report_MLP = classification_report(y_test, binary_predictions)\n",
        "print(report_MLP)\n",
        "\n",
        "conf_matrix_MLP = confusion_matrix(y_test, binary_predictions)\n",
        "print(\"Confusion Matrix:\")\n",
        "print(conf_matrix_MLP)\n",
        "\n",
        "plt.figure(figsize=(8, 6))\n",
        "sns.heatmap(conf_matrix_MLP, annot=True, xticklabels=[\"Not Delayed\", \"Delayed\"],\n",
        "            yticklabels=[\"Not Delayed\", \"Delayed\"])\n",
        "plt.title(\"Confusion Matrix\")\n",
        "plt.xlabel(\"Predicted Label\")\n",
        "plt.ylabel(\"True Label\")\n",
        "plt.show()"
      ],
      "metadata": {
        "colab": {
          "base_uri": "https://localhost:8080/",
          "height": 824
        },
        "id": "rkfqaz3-gddC",
        "outputId": "2b1b15dd-9819-426d-a5ec-53c97b085ad3"
      },
      "execution_count": null,
      "outputs": [
        {
          "output_type": "stream",
          "name": "stdout",
          "text": [
            "7283/7283 [==============================] - 18s 2ms/step - loss: 0.2503 - accuracy: 0.9230\n",
            "Loss: 0.250315397977829, Accuracy: 0.9230188131332397\n",
            "7283/7283 [==============================] - 15s 2ms/step\n",
            "              precision    recall  f1-score   support\n",
            "\n",
            "         0.0       0.93      0.98      0.96    200939\n",
            "         1.0       0.85      0.54      0.66     32092\n",
            "\n",
            "    accuracy                           0.92    233031\n",
            "   macro avg       0.89      0.76      0.81    233031\n",
            "weighted avg       0.92      0.92      0.92    233031\n",
            "\n",
            "Confusion Matrix:\n",
            "[[197909   3030]\n",
            " [ 14909  17183]]\n"
          ]
        },
        {
          "output_type": "display_data",
          "data": {
            "text/plain": [
              "<Figure size 800x600 with 2 Axes>"
            ],
            "image/png": "[encoded data removed]"
          },
          "metadata": {}
        }
      ]
    },
    {
      "cell_type": "markdown",
      "source": [
        "## Extreme Machine Learning"
      ],
      "metadata": {
        "id": "ak4hPdv4gXUU"
      }
    },
    {
      "cell_type": "code",
      "source": [
        "# np.save('/content/drive/MyDrive/University_of_Tehran/Pro. Sajedi/X_train_transformed.npy', X_train_transformed)\n",
        "# np.save('/content/drive/MyDrive/University_of_Tehran/Pro. Sajedi/X_test_transformed.npy', X_test_transformed)\n",
        "# np.save('/content/drive/MyDrive/University_of_Tehran/Pro. Sajedi/y_train.npy', y_train)\n",
        "# np.save('/content/drive/MyDrive/University_of_Tehran/Pro. Sajedi/y_test.npy', y_test)\n",
        "\n",
        "X_train_transformed = np.load('/content/drive/MyDrive/University_of_Tehran/Pro. Sajedi/X_train_transformed.npy')\n",
        "X_test_transformed = np.load('/content/drive/MyDrive/University_of_Tehran/Pro. Sajedi/X_test_transformed.npy')\n",
        "y_train = np.load('/content/drive/MyDrive/University_of_Tehran/Pro. Sajedi/y_train.npy')\n",
        "y_test = np.load('/content/drive/MyDrive/University_of_Tehran/Pro. Sajedi/y_test.npy')"
      ],
      "metadata": {
        "id": "GSVIcWkY93xu"
      },
      "execution_count": null,
      "outputs": []
    },
    {
      "cell_type": "markdown",
      "source": [
        "### Resampling data"
      ],
      "metadata": {
        "id": "W3ssSi2q7Rn5"
      }
    },
    {
      "cell_type": "code",
      "source": [
        "rus = RandomUnderSampler(random_state=42)\n",
        "X_resampled, y_resampled = rus.fit_resample(X_train_transformed, y_train)\n",
        "\n",
        "y_resampled = np.array(y_resampled).reshape(-1, 1)\n"
      ],
      "metadata": {
        "id": "YAZjr1_x7U73"
      },
      "execution_count": null,
      "outputs": []
    },
    {
      "cell_type": "markdown",
      "source": [
        "### train model ELM"
      ],
      "metadata": {
        "id": "ozYSuk7k7VMi"
      }
    },
    {
      "cell_type": "code",
      "source": [
        "class ELM:\n",
        "    def __init__(self, input_dim, hidden_dim, activation='sigmoid'):\n",
        "        self.input_dim = input_dim\n",
        "        self.hidden_dim = hidden_dim\n",
        "        self.activation = activation\n",
        "        self.weights_input_hidden = np.random.randn(input_dim, hidden_dim)\n",
        "        self.bias_input_hidden = np.random.randn(1, hidden_dim)\n",
        "        self.weights_hidden_output = None\n",
        "        self.bias_hidden_output = None\n",
        "\n",
        "    def apply_activation(self, x):\n",
        "        if self.activation == 'sigmoid':\n",
        "            return self.sigmoid(x)\n",
        "        elif self.activation == 'relu':\n",
        "            return self.relu(x)\n",
        "        else:\n",
        "            raise ValueError(\"Unsupported activation function\")\n",
        "\n",
        "    def sigmoid(self, x):\n",
        "        return 1 / (1 + np.exp(-x))\n",
        "\n",
        "    def relu(self, x):\n",
        "        return np.maximum(0, x)\n",
        "\n",
        "    def train_network(self, input_data, target_data):\n",
        "        hidden_output = self.apply_activation(np.dot(input_data, self.weights_input_hidden) + self.bias_input_hidden)\n",
        "\n",
        "        pinv = np.linalg.pinv(hidden_output)\n",
        "        self.weights_hidden_output = np.dot(pinv, target_data)\n",
        "        self.bias_hidden_output = np.zeros((1, target_data.shape[1]))\n",
        "\n",
        "    def make_predictions(self, input_data):\n",
        "        hidden_output = self.apply_activation(np.dot(input_data, self.weights_input_hidden) + self.bias_input_hidden)\n",
        "        output = np.dot(hidden_output, self.weights_hidden_output) + self.bias_hidden_output\n",
        "        return output\n",
        "\n",
        "input_dim = X_train_transformed.shape[1]\n",
        "hidden_dim = 750\n",
        "\n",
        "elm_model = ELM(input_dim, hidden_dim, activation='relu')\n",
        "elm_model.train_network(X_resampled, y_resampled)"
      ],
      "metadata": {
        "id": "cr-0v_rhB5M5"
      },
      "execution_count": null,
      "outputs": []
    },
    {
      "cell_type": "markdown",
      "source": [
        "### Evaluate ELM"
      ],
      "metadata": {
        "id": "sOhqS5WO7fqo"
      }
    },
    {
      "cell_type": "code",
      "source": [
        "y_pred_elm = elm_model.make_predictions(X_test_transformed)\n",
        "predicted_binary = (y_pred_elm > 0.5).astype(int)\n",
        "\n",
        "report_ELM = classification_report(y_test, predicted_binary)\n",
        "print(report_ELM)\n",
        "\n",
        "conf_matrix_ELM = confusion_matrix(y_test, predicted_binary)\n",
        "print(\"Confusion Matrix:\")\n",
        "print(conf_matrix_ELM)\n",
        "\n",
        "plt.figure(figsize=(8, 6))\n",
        "sns.heatmap(conf_matrix_ELM, annot=True, xticklabels=[\"Not Delayed\", \"Delayed\"],\n",
        "            yticklabels=[\"Not Delayed\", \"Delayed\"])\n",
        "plt.title(\"Confusion Matrix\")\n",
        "plt.xlabel(\"Predicted Label\")\n",
        "plt.ylabel(\"True Label\")\n",
        "plt.show()"
      ],
      "metadata": {
        "colab": {
          "base_uri": "https://localhost:8080/",
          "height": 772
        },
        "id": "JVu1TCoRRQGk",
        "outputId": "7a76bcac-c346-4ee1-c2c7-72c1aa876f9c"
      },
      "execution_count": null,
      "outputs": [
        {
          "output_type": "stream",
          "name": "stdout",
          "text": [
            "              precision    recall  f1-score   support\n",
            "\n",
            "         0.0       0.93      0.76      0.83    200939\n",
            "         1.0       0.29      0.64      0.40     32092\n",
            "\n",
            "    accuracy                           0.74    233031\n",
            "   macro avg       0.61      0.70      0.62    233031\n",
            "weighted avg       0.84      0.74      0.77    233031\n",
            "\n",
            "Confusion Matrix:\n",
            "[[151837  49102]\n",
            " [ 11620  20472]]\n"
          ]
        },
        {
          "output_type": "display_data",
          "data": {
            "text/plain": [
              "<Figure size 800x600 with 2 Axes>"
            ],
            "image/png": "[encoded data removed]"
          },
          "metadata": {}
        }
      ]
    },
    {
      "cell_type": "markdown",
      "source": [
        "## Auto-Encoder"
      ],
      "metadata": {
        "id": "fFTg4ZpjgeMI"
      }
    },
    {
      "cell_type": "code",
      "source": [
        "from tensorflow.keras.layers import Input, Dense\n",
        "from tensorflow.keras.models import Model\n",
        "\n",
        "encoding_dim = 512\n",
        "actual_dim = X_train_transformed.shape[1]\n",
        "\n",
        "\n",
        "input_layer = Input(shape=(actual_dim,))\n",
        "\n",
        "encoded = Dense(1024, activation='relu')(input_layer)\n",
        "encoded = Dense(encoding_dim, activation='relu')(encoded)\n",
        "\n",
        "decoded = Dense(1024, activation='relu')(encoded)\n",
        "decoded = Dense(actual_dim, activation='sigmoid')(decoded)\n",
        "\n",
        "autoencoder = Model(input_layer, decoded)\n",
        "encoder = Model(input_layer, encoded)\n",
        "\n",
        "autoencoder.compile(optimizer='adam', loss='binary_crossentropy')\n",
        "\n",
        "autoencoder.fit(X_train_transformed, X_train_transformed,\n",
        "                epochs=20,\n",
        "                batch_size=128,\n",
        "                shuffle=True,\n",
        "                validation_data=(X_test_transformed, X_test_transformed))\n",
        "\n",
        "# Evaluate the model\n",
        "mse = autoencoder.evaluate(X_test_transformed, X_test_transformed, batch_size=128)\n",
        "print(\"Mean Squared Error on Test Set:\", mse)\n"
      ],
      "metadata": {
        "colab": {
          "base_uri": "https://localhost:8080/"
        },
        "outputId": "e79f065b-81d2-4137-d431-4544fefb224e",
        "id": "DLtJyIpOQV6h"
      },
      "execution_count": null,
      "outputs": [
        {
          "output_type": "stream",
          "name": "stdout",
          "text": [
            "Epoch 1/20\n",
            "7283/7283 [==============================] - 35s 5ms/step - loss: -118024216576.0000 - val_loss: -458064920576.0000\n",
            "Epoch 2/20\n",
            "7283/7283 [==============================] - 30s 4ms/step - loss: -1979057045504.0000 - val_loss: -4107568152576.0000\n",
            "Epoch 3/20\n",
            "7283/7283 [==============================] - 31s 4ms/step - loss: -9533567008768.0000 - val_loss: -15481677283328.0000\n",
            "Epoch 4/20\n",
            "7283/7283 [==============================] - 31s 4ms/step - loss: -28476109225984.0000 - val_loss: -40741992660992.0000\n",
            "Epoch 5/20\n",
            "7283/7283 [==============================] - 30s 4ms/step - loss: -66252823330816.0000 - val_loss: -87559384334336.0000\n",
            "Epoch 6/20\n",
            "7283/7283 [==============================] - 29s 4ms/step - loss: -131884361187328.0000 - val_loss: -165307570192384.0000\n",
            "Epoch 7/20\n",
            "7283/7283 [==============================] - 29s 4ms/step - loss: -236042728767488.0000 - val_loss: -284521517809664.0000\n",
            "Epoch 8/20\n",
            "7283/7283 [==============================] - 30s 4ms/step - loss: -391189949841408.0000 - val_loss: -457698894151680.0000\n",
            "Epoch 9/20\n",
            "7283/7283 [==============================] - 30s 4ms/step - loss: -611191898505216.0000 - val_loss: -698799433449472.0000\n",
            "Epoch 10/20\n",
            "7283/7283 [==============================] - 31s 4ms/step - loss: -912049861296128.0000 - val_loss: -1023092818182144.0000\n",
            "Epoch 11/20\n",
            "7283/7283 [==============================] - 29s 4ms/step - loss: -1309740210585600.0000 - val_loss: -1446695577583616.0000\n",
            "Epoch 12/20\n",
            "7283/7283 [==============================] - 31s 4ms/step - loss: -1825365127331840.0000 - val_loss: -1989572464476160.0000\n",
            "Epoch 13/20\n",
            "7283/7283 [==============================] - 29s 4ms/step - loss: -2475171935944704.0000 - val_loss: -2668830400708608.0000\n",
            "Epoch 14/20\n",
            "7283/7283 [==============================] - 29s 4ms/step - loss: -3285305847185408.0000 - val_loss: -3508643341271040.0000\n",
            "Epoch 15/20\n",
            "7283/7283 [==============================] - 30s 4ms/step - loss: -4277019432976384.0000 - val_loss: -4529881069125632.0000\n",
            "Epoch 16/20\n",
            "7283/7283 [==============================] - 28s 4ms/step - loss: -5477278913921024.0000 - val_loss: -5756645061689344.0000\n",
            "Epoch 17/20\n",
            "7283/7283 [==============================] - 31s 4ms/step - loss: -6909430926934016.0000 - val_loss: -7215754436935680.0000\n",
            "Epoch 18/20\n",
            "7283/7283 [==============================] - 28s 4ms/step - loss: -8604009736699904.0000 - val_loss: -8932259591618560.0000\n",
            "Epoch 19/20\n",
            "7283/7283 [==============================] - 31s 4ms/step - loss: -10589280522993664.0000 - val_loss: -10938698661101568.0000\n",
            "Epoch 20/20\n",
            "7283/7283 [==============================] - 29s 4ms/step - loss: -12898991528214528.0000 - val_loss: -13261029353979904.0000\n",
            "1821/1821 [==============================] - 5s 3ms/step - loss: -13261029353979904.0000\n",
            "Mean Squared Error on Test Set: -1.3261029353979904e+16\n"
          ]
        }
      ]
    },
    {
      "cell_type": "markdown",
      "source": [
        "### Evaluate AutoeEncoder"
      ],
      "metadata": {
        "id": "ezfeXD_bdEUQ"
      }
    },
    {
      "cell_type": "code",
      "source": [
        "X_test_pred_autoencoder = autoencoder.predict(X_test_transformed)\n",
        "mse = np.mean(np.power(X_test_transformed - X_test_pred_autoencoder, 2), axis=1)\n",
        "error_df = pd.DataFrame({'Reconstruction_error': mse,\n",
        "                        'True_class': y_test})\n",
        "precision_rt, recall_rt, threshold_rt = precision_recall_curve(error_df.True_class, error_df.Reconstruction_error)\n",
        "\n",
        "print(\"Mean Squared Error on Test Set:\", mse)\n",
        "\n",
        "plt.plot(threshold_rt, precision_rt[1:], label=\"Precision\",linewidth=5)\n",
        "plt.plot(threshold_rt, recall_rt[1:], label=\"Recall\",linewidth=5)\n",
        "plt.title('Precision and recall for different threshold values')\n",
        "plt.xlabel('Threshold')\n",
        "plt.ylabel('Precision/Recall')\n",
        "plt.legend()\n",
        "plt.show()"
      ],
      "metadata": {
        "id": "rWHN3DcSQV6i"
      },
      "execution_count": null,
      "outputs": []
    },
    {
      "cell_type": "markdown",
      "source": [
        "#### MLP model after encoder"
      ],
      "metadata": {
        "id": "1YmGHoXhfsuk"
      }
    },
    {
      "cell_type": "code",
      "source": [
        "X_train_encoder = autoencoder.predict(X_train_transformed)\n",
        "\n",
        "input_dim = X_train_encoder.shape[1]\n",
        "early_stopping = EarlyStopping(monitor='val_loss', patience=5)\n",
        "learning_rate = 1e-2\n",
        "\n",
        "model_MLP = Sequential()\n",
        "model_MLP.add(Dense(150, input_dim=input_dim, activation='relu', activity_regularizer=regularizers.l1(learning_rate)))\n",
        "model_MLP.add(Dense(100, activation='relu'))\n",
        "model_MLP.add(Dense(50, activation='relu'))\n",
        "model_MLP.add(Dense(10, activation='relu'))\n",
        "model_MLP.add(Dense(1, activation='sigmoid'))\n",
        "\n",
        "model_MLP.compile(optimizer='adam', loss='binary_crossentropy', metrics=['accuracy'])\n",
        "model_MLP.fit(X_train_encoder, y_train, epochs=50, batch_size=128, validation_split=0.1, callbacks=[early_stopping])\n"
      ],
      "metadata": {
        "colab": {
          "base_uri": "https://localhost:8080/"
        },
        "id": "81lGas5Jg7kp",
        "outputId": "c6c81aa0-c71d-475b-ef8f-6331c43a51e9"
      },
      "execution_count": null,
      "outputs": [
        {
          "output_type": "stream",
          "name": "stdout",
          "text": [
            "Epoch 1/50\n",
            "6554/6554 [==============================] - 33s 5ms/step - loss: 0.4183 - accuracy: 0.8328 - val_loss: 0.3921 - val_accuracy: 0.8461\n",
            "Epoch 2/50\n",
            "6554/6554 [==============================] - 33s 5ms/step - loss: 0.3942 - accuracy: 0.8456 - val_loss: 0.3809 - val_accuracy: 0.8525\n",
            "Epoch 3/50\n",
            "6554/6554 [==============================] - 36s 6ms/step - loss: 0.3876 - accuracy: 0.8484 - val_loss: 0.3811 - val_accuracy: 0.8524\n",
            "Epoch 4/50\n",
            "6554/6554 [==============================] - 30s 5ms/step - loss: 0.3836 - accuracy: 0.8507 - val_loss: 0.3767 - val_accuracy: 0.8560\n",
            "Epoch 5/50\n",
            "6554/6554 [==============================] - 30s 5ms/step - loss: 0.3782 - accuracy: 0.8533 - val_loss: 0.3645 - val_accuracy: 0.8630\n",
            "Epoch 6/50\n",
            "6554/6554 [==============================] - 34s 5ms/step - loss: 0.3714 - accuracy: 0.8581 - val_loss: 0.3600 - val_accuracy: 0.8639\n",
            "Epoch 7/50\n",
            "6554/6554 [==============================] - 40s 6ms/step - loss: 0.3684 - accuracy: 0.8600 - val_loss: 0.3638 - val_accuracy: 0.8634\n",
            "Epoch 8/50\n",
            "6554/6554 [==============================] - 38s 6ms/step - loss: 0.3661 - accuracy: 0.8611 - val_loss: 0.3564 - val_accuracy: 0.8655\n",
            "Epoch 9/50\n",
            "6554/6554 [==============================] - 42s 6ms/step - loss: 0.3643 - accuracy: 0.8623 - val_loss: 0.3531 - val_accuracy: 0.8689\n",
            "Epoch 10/50\n",
            "6554/6554 [==============================] - 48s 7ms/step - loss: 0.3629 - accuracy: 0.8634 - val_loss: 0.3564 - val_accuracy: 0.8669\n",
            "Epoch 11/50\n",
            "6554/6554 [==============================] - 39s 6ms/step - loss: 0.3618 - accuracy: 0.8639 - val_loss: 0.3608 - val_accuracy: 0.8649\n",
            "Epoch 12/50\n",
            "6554/6554 [==============================] - 35s 5ms/step - loss: 0.3605 - accuracy: 0.8647 - val_loss: 0.3496 - val_accuracy: 0.8705\n",
            "Epoch 13/50\n",
            "6554/6554 [==============================] - 32s 5ms/step - loss: 0.3598 - accuracy: 0.8649 - val_loss: 0.3593 - val_accuracy: 0.8646\n",
            "Epoch 14/50\n",
            "6554/6554 [==============================] - 31s 5ms/step - loss: 0.3590 - accuracy: 0.8656 - val_loss: 0.3569 - val_accuracy: 0.8671\n",
            "Epoch 15/50\n",
            "6554/6554 [==============================] - 35s 5ms/step - loss: 0.3582 - accuracy: 0.8660 - val_loss: 0.3535 - val_accuracy: 0.8700\n",
            "Epoch 16/50\n",
            "6554/6554 [==============================] - 32s 5ms/step - loss: 0.3578 - accuracy: 0.8663 - val_loss: 0.3470 - val_accuracy: 0.8718\n",
            "Epoch 17/50\n",
            "6554/6554 [==============================] - 34s 5ms/step - loss: 0.3574 - accuracy: 0.8665 - val_loss: 0.3510 - val_accuracy: 0.8703\n",
            "Epoch 18/50\n",
            "6554/6554 [==============================] - 32s 5ms/step - loss: 0.3568 - accuracy: 0.8665 - val_loss: 0.3480 - val_accuracy: 0.8723\n",
            "Epoch 19/50\n",
            "6554/6554 [==============================] - 30s 5ms/step - loss: 0.3564 - accuracy: 0.8670 - val_loss: 0.3520 - val_accuracy: 0.8687\n",
            "Epoch 20/50\n",
            "6554/6554 [==============================] - 33s 5ms/step - loss: 0.3560 - accuracy: 0.8671 - val_loss: 0.3436 - val_accuracy: 0.8741\n",
            "Epoch 21/50\n",
            "6554/6554 [==============================] - 33s 5ms/step - loss: 0.3555 - accuracy: 0.8674 - val_loss: 0.3496 - val_accuracy: 0.8712\n",
            "Epoch 22/50\n",
            "6554/6554 [==============================] - 31s 5ms/step - loss: 0.3555 - accuracy: 0.8676 - val_loss: 0.3486 - val_accuracy: 0.8730\n",
            "Epoch 23/50\n",
            "6554/6554 [==============================] - 31s 5ms/step - loss: 0.3551 - accuracy: 0.8676 - val_loss: 0.3456 - val_accuracy: 0.8737\n",
            "Epoch 24/50\n",
            "6554/6554 [==============================] - 29s 4ms/step - loss: 0.3549 - accuracy: 0.8678 - val_loss: 0.3503 - val_accuracy: 0.8704\n",
            "Epoch 25/50\n",
            "6554/6554 [==============================] - 31s 5ms/step - loss: 0.3544 - accuracy: 0.8681 - val_loss: 0.3501 - val_accuracy: 0.8717\n"
          ]
        },
        {
          "output_type": "execute_result",
          "data": {
            "text/plain": [
              "<keras.src.callbacks.History at 0x7987bbead450>"
            ]
          },
          "metadata": {},
          "execution_count": 44
        }
      ]
    },
    {
      "cell_type": "code",
      "source": [
        "X_test_encoder = autoencoder.predict(X_test_transformed)\n",
        "\n",
        "y_pred = model_MLP.predict(X_test_encoder)\n",
        "binary_y_pred = (y_pred > 0.5).astype(int)\n",
        "print(\"Classification Report:\")\n",
        "\n",
        "print(classification_report(y_test, binary_y_pred))\n",
        "\n",
        "conf_matrix = confusion_matrix(y_test, binary_y_pred)\n",
        "\n",
        "plt.figure(figsize=(8, 6))\n",
        "sns.heatmap(conf_matrix, annot=True, fmt=\"d\", cmap=\"Blues\", xticklabels=[\"Class 0\", \"Class 1\"],\n",
        "            yticklabels=[\"Class 0\", \"Class 1\"])\n",
        "plt.title(\"Confusion Matrix\")\n",
        "plt.xlabel(\"Predicted Label\")\n",
        "plt.ylabel(\"True Label\")\n",
        "plt.show()"
      ],
      "metadata": {
        "colab": {
          "base_uri": "https://localhost:8080/",
          "height": 760
        },
        "id": "hl_TKdOghvNj",
        "outputId": "76f20a04-17f4-4205-e2d6-c5a6e564d6d6"
      },
      "execution_count": null,
      "outputs": [
        {
          "output_type": "stream",
          "name": "stdout",
          "text": [
            "7283/7283 [==============================] - 14s 2ms/step\n",
            "Classification Report:\n",
            "              precision    recall  f1-score   support\n",
            "\n",
            "         0.0       0.91      0.98      0.95    200939\n",
            "         1.0       0.80      0.42      0.55     32092\n",
            "\n",
            "    accuracy                           0.91    233031\n",
            "   macro avg       0.86      0.70      0.75    233031\n",
            "weighted avg       0.90      0.91      0.89    233031\n",
            "\n"
          ]
        },
        {
          "output_type": "display_data",
          "data": {
            "text/plain": [
              "<Figure size 800x600 with 2 Axes>"
            ],
            "image/png": "[encoded data removed]"
          },
          "metadata": {}
        }
      ]
    }
  ]
}